{
 "cells": [
  {
   "cell_type": "markdown",
   "metadata": {
    "id": "KQzkH5w5vce2"
   },
   "source": [
    "# Librerias"
   ]
  },
  {
   "cell_type": "code",
   "execution_count": 1,
   "metadata": {
    "id": "4eIQfHw-vaAh"
   },
   "outputs": [],
   "source": [
    "import numpy as np\n",
    "import pandas as pd\n",
    "import matplotlib.pyplot as plt\n",
    "import seaborn as sns\n",
    "from sklearn import svm\n",
    "from sklearn.svm import SVC\n",
    "from sklearn.model_selection import train_test_split\n",
    "from sklearn.metrics import accuracy_score\n",
    "from sklearn.model_selection import cross_val_score\n",
    "from sklearn.metrics import roc_curve, auc\n",
    "from sklearn import metrics\n",
    "from sklearn.model_selection import GridSearchCV\n",
    "from sklearn.metrics import confusion_matrix\n",
    "from sklearn.neighbors import KNeighborsClassifier\n",
    "from sklearn.datasets import make_classification\n",
    "from sklearn import preprocessing"
   ]
  },
  {
   "cell_type": "markdown",
   "metadata": {
    "id": "kCyQjTOCvm-W"
   },
   "source": [
    "# Google Colab o Local"
   ]
  },
  {
   "cell_type": "code",
   "execution_count": 2,
   "metadata": {
    "id": "TC1dp0_Jvj6N"
   },
   "outputs": [
    {
     "name": "stdout",
     "output_type": "stream",
     "text": [
      "False\n"
     ]
    }
   ],
   "source": [
    "# Verificamos si estamos en Colab\n",
    "var_google_colab = 'google.colab' in str(get_ipython())\n",
    "print(var_google_colab)\n",
    "if var_google_colab:\n",
    "  #Montamos nuestro G.Drive\n",
    "  from google.colab import drive\n",
    "  drive.mount('/content/gdrive',force_remount=True)\n",
    "  # Direccion root donde está la jupyter-notebook\n",
    "  root_path = \"/content/gdrive/My Drive/ciencia_de_datos_2022_german_maestri\"\n",
    "  # Direccion donde guardaremos las imagenes\n",
    "  plot_path = root_path\n",
    "else:\n",
    "  # Si, no estamos en google colab, es que estamos corriendo la en local\n",
    "  root_path = \"\"\n",
    "  plot_path = root_path\n",
    "\n",
    "# Cargamos el dataset\n",
    "\n",
    "if var_google_colab:\n",
    "    bank_subscription_df = pd.read_csv(root_path + \"/bank_subscription.csv\")\n",
    "else:\n",
    "    bank_subscription_df = pd.read_csv(root_path + \"bank_subscription.csv\")"
   ]
  },
  {
   "cell_type": "markdown",
   "metadata": {
    "id": "WPUAMkrgwZhd"
   },
   "source": [
    "# 1. Limpieza"
   ]
  },
  {
   "cell_type": "code",
   "execution_count": 3,
   "metadata": {
    "id": "MLquuCqgwLY1"
   },
   "outputs": [],
   "source": [
    "# Lo limpiamos tal como se realizó en el EDA\n",
    "\n",
    "bank_subscription_df.drop_duplicates(inplace=True)\n",
    "bank_subscription_df.dropna(inplace=True)\n",
    "bank_subscription_df.drop('Unnamed: 0', inplace=True, axis = 1)\n",
    "bank_subscription_df.drop('Pdays', inplace=True, axis = 1)\n",
    "bank_subscription_df.rename(columns = {'Age':'age', 'Job':'job', 'Marital Status':'marital_status', 'Education':'education', 'Credit':'credit', 'Balance (euros)':'balance_euros', 'Housing Loan':'housing_loan', 'Personal Loan':'personal_loan', 'Contact':'contact', 'Last Contact Day':'last_contact_day', 'Last Contact Month':'last_contact_month', 'Last Contact Duration':'last_contact_duration', 'Campaign':'campaign', 'Previous':'previous', 'Poutcome':'poutcome', 'Subscription':'subscription'}, inplace = True)\n",
    "bank_subscription_df.drop(29182, axis=0, inplace=True)"
   ]
  },
  {
   "cell_type": "markdown",
   "metadata": {
    "id": "NbUG9970wedB"
   },
   "source": [
    "# 2. Preprocesamiento"
   ]
  },
  {
   "cell_type": "code",
   "execution_count": 4,
   "metadata": {
    "id": "gv6EGQHg9dxp"
   },
   "outputs": [
    {
     "data": {
      "text/html": [
       "<div>\n",
       "<style scoped>\n",
       "    .dataframe tbody tr th:only-of-type {\n",
       "        vertical-align: middle;\n",
       "    }\n",
       "\n",
       "    .dataframe tbody tr th {\n",
       "        vertical-align: top;\n",
       "    }\n",
       "\n",
       "    .dataframe thead th {\n",
       "        text-align: right;\n",
       "    }\n",
       "</style>\n",
       "<table border=\"1\" class=\"dataframe\">\n",
       "  <thead>\n",
       "    <tr style=\"text-align: right;\">\n",
       "      <th></th>\n",
       "      <th>age</th>\n",
       "      <th>job</th>\n",
       "      <th>marital_status</th>\n",
       "      <th>education</th>\n",
       "      <th>credit</th>\n",
       "      <th>balance_euros</th>\n",
       "      <th>housing_loan</th>\n",
       "      <th>personal_loan</th>\n",
       "      <th>contact</th>\n",
       "      <th>last_contact_day</th>\n",
       "      <th>last_contact_month</th>\n",
       "      <th>last_contact_duration</th>\n",
       "      <th>campaign</th>\n",
       "      <th>previous</th>\n",
       "      <th>poutcome</th>\n",
       "      <th>subscription</th>\n",
       "    </tr>\n",
       "  </thead>\n",
       "  <tbody>\n",
       "    <tr>\n",
       "      <th>11</th>\n",
       "      <td>29.0</td>\n",
       "      <td>admin.</td>\n",
       "      <td>single</td>\n",
       "      <td>secondary</td>\n",
       "      <td>0</td>\n",
       "      <td>390.0</td>\n",
       "      <td>1</td>\n",
       "      <td>0</td>\n",
       "      <td>unknown</td>\n",
       "      <td>5</td>\n",
       "      <td>may</td>\n",
       "      <td>137.0</td>\n",
       "      <td>1</td>\n",
       "      <td>0</td>\n",
       "      <td>unknown</td>\n",
       "      <td>1</td>\n",
       "    </tr>\n",
       "    <tr>\n",
       "      <th>15</th>\n",
       "      <td>51.0</td>\n",
       "      <td>retired</td>\n",
       "      <td>married</td>\n",
       "      <td>primary</td>\n",
       "      <td>0</td>\n",
       "      <td>229.0</td>\n",
       "      <td>1</td>\n",
       "      <td>0</td>\n",
       "      <td>unknown</td>\n",
       "      <td>5</td>\n",
       "      <td>may</td>\n",
       "      <td>353.0</td>\n",
       "      <td>1</td>\n",
       "      <td>0</td>\n",
       "      <td>unknown</td>\n",
       "      <td>1</td>\n",
       "    </tr>\n",
       "    <tr>\n",
       "      <th>19</th>\n",
       "      <td>33.0</td>\n",
       "      <td>services</td>\n",
       "      <td>married</td>\n",
       "      <td>secondary</td>\n",
       "      <td>0</td>\n",
       "      <td>0.0</td>\n",
       "      <td>1</td>\n",
       "      <td>0</td>\n",
       "      <td>unknown</td>\n",
       "      <td>5</td>\n",
       "      <td>may</td>\n",
       "      <td>54.0</td>\n",
       "      <td>1</td>\n",
       "      <td>0</td>\n",
       "      <td>unknown</td>\n",
       "      <td>1</td>\n",
       "    </tr>\n",
       "    <tr>\n",
       "      <th>21</th>\n",
       "      <td>56.0</td>\n",
       "      <td>management</td>\n",
       "      <td>married</td>\n",
       "      <td>tertiary</td>\n",
       "      <td>0</td>\n",
       "      <td>779.0</td>\n",
       "      <td>1</td>\n",
       "      <td>0</td>\n",
       "      <td>unknown</td>\n",
       "      <td>5</td>\n",
       "      <td>may</td>\n",
       "      <td>164.0</td>\n",
       "      <td>1</td>\n",
       "      <td>0</td>\n",
       "      <td>unknown</td>\n",
       "      <td>1</td>\n",
       "    </tr>\n",
       "    <tr>\n",
       "      <th>24</th>\n",
       "      <td>40.0</td>\n",
       "      <td>retired</td>\n",
       "      <td>married</td>\n",
       "      <td>primary</td>\n",
       "      <td>0</td>\n",
       "      <td>0.0</td>\n",
       "      <td>1</td>\n",
       "      <td>1</td>\n",
       "      <td>unknown</td>\n",
       "      <td>5</td>\n",
       "      <td>may</td>\n",
       "      <td>181.0</td>\n",
       "      <td>1</td>\n",
       "      <td>0</td>\n",
       "      <td>unknown</td>\n",
       "      <td>1</td>\n",
       "    </tr>\n",
       "  </tbody>\n",
       "</table>\n",
       "</div>"
      ],
      "text/plain": [
       "     age         job marital_status  education  credit  balance_euros  \\\n",
       "11  29.0      admin.         single  secondary       0          390.0   \n",
       "15  51.0     retired        married    primary       0          229.0   \n",
       "19  33.0    services        married  secondary       0            0.0   \n",
       "21  56.0  management        married   tertiary       0          779.0   \n",
       "24  40.0     retired        married    primary       0            0.0   \n",
       "\n",
       "    housing_loan  personal_loan  contact  last_contact_day last_contact_month  \\\n",
       "11             1              0  unknown                 5                may   \n",
       "15             1              0  unknown                 5                may   \n",
       "19             1              0  unknown                 5                may   \n",
       "21             1              0  unknown                 5                may   \n",
       "24             1              1  unknown                 5                may   \n",
       "\n",
       "    last_contact_duration  campaign  previous poutcome  subscription  \n",
       "11                  137.0         1         0  unknown             1  \n",
       "15                  353.0         1         0  unknown             1  \n",
       "19                   54.0         1         0  unknown             1  \n",
       "21                  164.0         1         0  unknown             1  \n",
       "24                  181.0         1         0  unknown             1  "
      ]
     },
     "execution_count": 4,
     "metadata": {},
     "output_type": "execute_result"
    }
   ],
   "source": [
    "# Convertimos las columnas 'credit', 'housing_loan' y 'personal_loan' en 0 y 1,\n",
    "# de \"no\" y \"yes\" respectivamente\n",
    "\n",
    "bank_subscription_df['credit'] = bank_subscription_df['credit'].map({'yes': 1, 'no': 0})\n",
    "bank_subscription_df['housing_loan'] = bank_subscription_df['housing_loan'].map({'yes': 1, 'no': 0})\n",
    "bank_subscription_df['personal_loan'] = bank_subscription_df['personal_loan'].map({'yes': 1, 'no': 0})\n",
    "bank_subscription_df.head()"
   ]
  },
  {
   "cell_type": "code",
   "execution_count": 5,
   "metadata": {
    "id": "7BkZNbLt77w9"
   },
   "outputs": [
    {
     "data": {
      "text/html": [
       "<div>\n",
       "<style scoped>\n",
       "    .dataframe tbody tr th:only-of-type {\n",
       "        vertical-align: middle;\n",
       "    }\n",
       "\n",
       "    .dataframe tbody tr th {\n",
       "        vertical-align: top;\n",
       "    }\n",
       "\n",
       "    .dataframe thead th {\n",
       "        text-align: right;\n",
       "    }\n",
       "</style>\n",
       "<table border=\"1\" class=\"dataframe\">\n",
       "  <thead>\n",
       "    <tr style=\"text-align: right;\">\n",
       "      <th></th>\n",
       "      <th>credit</th>\n",
       "      <th>housing_loan</th>\n",
       "      <th>personal_loan</th>\n",
       "      <th>job_admin.</th>\n",
       "      <th>job_blue-collar</th>\n",
       "      <th>job_entrepreneur</th>\n",
       "      <th>job_housemaid</th>\n",
       "      <th>job_management</th>\n",
       "      <th>job_retired</th>\n",
       "      <th>job_self-employed</th>\n",
       "      <th>...</th>\n",
       "      <th>last_contact_month_jun</th>\n",
       "      <th>last_contact_month_mar</th>\n",
       "      <th>last_contact_month_may</th>\n",
       "      <th>last_contact_month_nov</th>\n",
       "      <th>last_contact_month_oct</th>\n",
       "      <th>last_contact_month_sep</th>\n",
       "      <th>poutcome_failure</th>\n",
       "      <th>poutcome_other</th>\n",
       "      <th>poutcome_success</th>\n",
       "      <th>poutcome_unknown</th>\n",
       "    </tr>\n",
       "  </thead>\n",
       "  <tbody>\n",
       "    <tr>\n",
       "      <th>11</th>\n",
       "      <td>0</td>\n",
       "      <td>1</td>\n",
       "      <td>0</td>\n",
       "      <td>1</td>\n",
       "      <td>0</td>\n",
       "      <td>0</td>\n",
       "      <td>0</td>\n",
       "      <td>0</td>\n",
       "      <td>0</td>\n",
       "      <td>0</td>\n",
       "      <td>...</td>\n",
       "      <td>0</td>\n",
       "      <td>0</td>\n",
       "      <td>1</td>\n",
       "      <td>0</td>\n",
       "      <td>0</td>\n",
       "      <td>0</td>\n",
       "      <td>0</td>\n",
       "      <td>0</td>\n",
       "      <td>0</td>\n",
       "      <td>1</td>\n",
       "    </tr>\n",
       "    <tr>\n",
       "      <th>15</th>\n",
       "      <td>0</td>\n",
       "      <td>1</td>\n",
       "      <td>0</td>\n",
       "      <td>0</td>\n",
       "      <td>0</td>\n",
       "      <td>0</td>\n",
       "      <td>0</td>\n",
       "      <td>0</td>\n",
       "      <td>1</td>\n",
       "      <td>0</td>\n",
       "      <td>...</td>\n",
       "      <td>0</td>\n",
       "      <td>0</td>\n",
       "      <td>1</td>\n",
       "      <td>0</td>\n",
       "      <td>0</td>\n",
       "      <td>0</td>\n",
       "      <td>0</td>\n",
       "      <td>0</td>\n",
       "      <td>0</td>\n",
       "      <td>1</td>\n",
       "    </tr>\n",
       "    <tr>\n",
       "      <th>19</th>\n",
       "      <td>0</td>\n",
       "      <td>1</td>\n",
       "      <td>0</td>\n",
       "      <td>0</td>\n",
       "      <td>0</td>\n",
       "      <td>0</td>\n",
       "      <td>0</td>\n",
       "      <td>0</td>\n",
       "      <td>0</td>\n",
       "      <td>0</td>\n",
       "      <td>...</td>\n",
       "      <td>0</td>\n",
       "      <td>0</td>\n",
       "      <td>1</td>\n",
       "      <td>0</td>\n",
       "      <td>0</td>\n",
       "      <td>0</td>\n",
       "      <td>0</td>\n",
       "      <td>0</td>\n",
       "      <td>0</td>\n",
       "      <td>1</td>\n",
       "    </tr>\n",
       "    <tr>\n",
       "      <th>21</th>\n",
       "      <td>0</td>\n",
       "      <td>1</td>\n",
       "      <td>0</td>\n",
       "      <td>0</td>\n",
       "      <td>0</td>\n",
       "      <td>0</td>\n",
       "      <td>0</td>\n",
       "      <td>1</td>\n",
       "      <td>0</td>\n",
       "      <td>0</td>\n",
       "      <td>...</td>\n",
       "      <td>0</td>\n",
       "      <td>0</td>\n",
       "      <td>1</td>\n",
       "      <td>0</td>\n",
       "      <td>0</td>\n",
       "      <td>0</td>\n",
       "      <td>0</td>\n",
       "      <td>0</td>\n",
       "      <td>0</td>\n",
       "      <td>1</td>\n",
       "    </tr>\n",
       "    <tr>\n",
       "      <th>24</th>\n",
       "      <td>0</td>\n",
       "      <td>1</td>\n",
       "      <td>1</td>\n",
       "      <td>0</td>\n",
       "      <td>0</td>\n",
       "      <td>0</td>\n",
       "      <td>0</td>\n",
       "      <td>0</td>\n",
       "      <td>1</td>\n",
       "      <td>0</td>\n",
       "      <td>...</td>\n",
       "      <td>0</td>\n",
       "      <td>0</td>\n",
       "      <td>1</td>\n",
       "      <td>0</td>\n",
       "      <td>0</td>\n",
       "      <td>0</td>\n",
       "      <td>0</td>\n",
       "      <td>0</td>\n",
       "      <td>0</td>\n",
       "      <td>1</td>\n",
       "    </tr>\n",
       "  </tbody>\n",
       "</table>\n",
       "<p>5 rows × 41 columns</p>\n",
       "</div>"
      ],
      "text/plain": [
       "    credit  housing_loan  personal_loan  job_admin.  job_blue-collar  \\\n",
       "11       0             1              0           1                0   \n",
       "15       0             1              0           0                0   \n",
       "19       0             1              0           0                0   \n",
       "21       0             1              0           0                0   \n",
       "24       0             1              1           0                0   \n",
       "\n",
       "    job_entrepreneur  job_housemaid  job_management  job_retired  \\\n",
       "11                 0              0               0            0   \n",
       "15                 0              0               0            1   \n",
       "19                 0              0               0            0   \n",
       "21                 0              0               1            0   \n",
       "24                 0              0               0            1   \n",
       "\n",
       "    job_self-employed  ...  last_contact_month_jun  last_contact_month_mar  \\\n",
       "11                  0  ...                       0                       0   \n",
       "15                  0  ...                       0                       0   \n",
       "19                  0  ...                       0                       0   \n",
       "21                  0  ...                       0                       0   \n",
       "24                  0  ...                       0                       0   \n",
       "\n",
       "    last_contact_month_may  last_contact_month_nov  last_contact_month_oct  \\\n",
       "11                       1                       0                       0   \n",
       "15                       1                       0                       0   \n",
       "19                       1                       0                       0   \n",
       "21                       1                       0                       0   \n",
       "24                       1                       0                       0   \n",
       "\n",
       "    last_contact_month_sep  poutcome_failure  poutcome_other  \\\n",
       "11                       0                 0               0   \n",
       "15                       0                 0               0   \n",
       "19                       0                 0               0   \n",
       "21                       0                 0               0   \n",
       "24                       0                 0               0   \n",
       "\n",
       "    poutcome_success  poutcome_unknown  \n",
       "11                 0                 1  \n",
       "15                 0                 1  \n",
       "19                 0                 1  \n",
       "21                 0                 1  \n",
       "24                 0                 1  \n",
       "\n",
       "[5 rows x 41 columns]"
      ]
     },
     "execution_count": 5,
     "metadata": {},
     "output_type": "execute_result"
    }
   ],
   "source": [
    "# Creamos dummies para las variables categóricas\n",
    "\n",
    "dummies = pd.get_dummies(data=bank_subscription_df)\n",
    "\n",
    "# Dejamos sólo los dummies en el dataframe creado\n",
    "\n",
    "dummies.drop('age', inplace=True, axis=1)\n",
    "dummies.drop('balance_euros', inplace=True, axis=1)\n",
    "dummies.drop('last_contact_day', inplace=True, axis=1)\n",
    "dummies.drop('last_contact_duration', inplace=True, axis=1)\n",
    "dummies.drop('campaign', inplace=True, axis=1)\n",
    "dummies.drop('previous', inplace=True, axis=1)\n",
    "dummies.drop('subscription', inplace=True, axis=1)\n",
    "dummies.head()"
   ]
  },
  {
   "cell_type": "code",
   "execution_count": 6,
   "metadata": {
    "id": "ux6VdO9A77tS"
   },
   "outputs": [
    {
     "data": {
      "text/html": [
       "<div>\n",
       "<style scoped>\n",
       "    .dataframe tbody tr th:only-of-type {\n",
       "        vertical-align: middle;\n",
       "    }\n",
       "\n",
       "    .dataframe tbody tr th {\n",
       "        vertical-align: top;\n",
       "    }\n",
       "\n",
       "    .dataframe thead th {\n",
       "        text-align: right;\n",
       "    }\n",
       "</style>\n",
       "<table border=\"1\" class=\"dataframe\">\n",
       "  <thead>\n",
       "    <tr style=\"text-align: right;\">\n",
       "      <th></th>\n",
       "      <th>age</th>\n",
       "      <th>balance_euros</th>\n",
       "      <th>last_contact_day</th>\n",
       "      <th>last_contact_duration</th>\n",
       "      <th>campaign</th>\n",
       "      <th>previous</th>\n",
       "      <th>subscription</th>\n",
       "    </tr>\n",
       "  </thead>\n",
       "  <tbody>\n",
       "    <tr>\n",
       "      <th>11</th>\n",
       "      <td>29.0</td>\n",
       "      <td>390.0</td>\n",
       "      <td>5</td>\n",
       "      <td>137.0</td>\n",
       "      <td>1</td>\n",
       "      <td>0</td>\n",
       "      <td>1</td>\n",
       "    </tr>\n",
       "    <tr>\n",
       "      <th>15</th>\n",
       "      <td>51.0</td>\n",
       "      <td>229.0</td>\n",
       "      <td>5</td>\n",
       "      <td>353.0</td>\n",
       "      <td>1</td>\n",
       "      <td>0</td>\n",
       "      <td>1</td>\n",
       "    </tr>\n",
       "    <tr>\n",
       "      <th>19</th>\n",
       "      <td>33.0</td>\n",
       "      <td>0.0</td>\n",
       "      <td>5</td>\n",
       "      <td>54.0</td>\n",
       "      <td>1</td>\n",
       "      <td>0</td>\n",
       "      <td>1</td>\n",
       "    </tr>\n",
       "    <tr>\n",
       "      <th>21</th>\n",
       "      <td>56.0</td>\n",
       "      <td>779.0</td>\n",
       "      <td>5</td>\n",
       "      <td>164.0</td>\n",
       "      <td>1</td>\n",
       "      <td>0</td>\n",
       "      <td>1</td>\n",
       "    </tr>\n",
       "    <tr>\n",
       "      <th>24</th>\n",
       "      <td>40.0</td>\n",
       "      <td>0.0</td>\n",
       "      <td>5</td>\n",
       "      <td>181.0</td>\n",
       "      <td>1</td>\n",
       "      <td>0</td>\n",
       "      <td>1</td>\n",
       "    </tr>\n",
       "  </tbody>\n",
       "</table>\n",
       "</div>"
      ],
      "text/plain": [
       "     age  balance_euros  last_contact_day  last_contact_duration  campaign  \\\n",
       "11  29.0          390.0                 5                  137.0         1   \n",
       "15  51.0          229.0                 5                  353.0         1   \n",
       "19  33.0            0.0                 5                   54.0         1   \n",
       "21  56.0          779.0                 5                  164.0         1   \n",
       "24  40.0            0.0                 5                  181.0         1   \n",
       "\n",
       "    previous  subscription  \n",
       "11         0             1  \n",
       "15         0             1  \n",
       "19         0             1  \n",
       "21         0             1  \n",
       "24         0             1  "
      ]
     },
     "execution_count": 6,
     "metadata": {},
     "output_type": "execute_result"
    }
   ],
   "source": [
    "# Eliminamos todas las variables binarias del df principal, para poder realizar\n",
    "# un standard scaler a las variables numéricas\n",
    "\n",
    "bank_subscription_df.drop('job', inplace=True, axis=1)\n",
    "bank_subscription_df.drop('marital_status', inplace=True, axis=1)\n",
    "bank_subscription_df.drop('education', inplace=True, axis=1)\n",
    "bank_subscription_df.drop('credit', inplace=True, axis=1)\n",
    "bank_subscription_df.drop('housing_loan', inplace=True, axis=1)\n",
    "bank_subscription_df.drop('personal_loan', inplace=True, axis=1)\n",
    "bank_subscription_df.drop('contact', inplace=True, axis=1)\n",
    "bank_subscription_df.drop('last_contact_month', inplace=True, axis=1)\n",
    "bank_subscription_df.drop('poutcome', inplace=True, axis=1)\n",
    "bank_subscription_df.head()"
   ]
  },
  {
   "cell_type": "code",
   "execution_count": 7,
   "metadata": {
    "id": "ymvVzSCo77p5"
   },
   "outputs": [],
   "source": [
    "# Separamos de antemano la columna subscription, nombrandola como Y para luego\n",
    "# separarla como Y_train e Y_test\n",
    "\n",
    "Y=bank_subscription_df.copy()\n",
    "Y.drop('age', inplace=True, axis=1)\n",
    "Y.drop('balance_euros', inplace=True, axis=1)\n",
    "Y.drop('last_contact_day', inplace=True, axis=1)\n",
    "Y.drop('last_contact_duration', inplace=True, axis=1)\n",
    "Y.drop('campaign', inplace=True, axis=1)\n",
    "Y.drop('previous', inplace=True, axis=1)"
   ]
  },
  {
   "cell_type": "code",
   "execution_count": 8,
   "metadata": {
    "id": "ZlpTKGeyDrlM"
   },
   "outputs": [],
   "source": [
    "# La eliminamos del df principal\n",
    "\n",
    "bank_subscription_df.drop('subscription', inplace=True, axis=1)\n",
    "\n",
    "# Temporalmente, nombraremos X al nuevo DF para separalo en X_train y X_test\n",
    "# y poder realizar un standard scaler. Luego, unificaremos a las dummies,\n",
    "# previamente separando estas en test y train también\n",
    "\n",
    "X = bank_subscription_df\n",
    "\n",
    "X_train, X_test, Y_train, Y_test = train_test_split(X, Y, test_size=0.20, random_state=42)\n",
    "dummies_train, dummies_test = train_test_split(dummies, test_size=0.20, random_state=42)"
   ]
  },
  {
   "cell_type": "code",
   "execution_count": 9,
   "metadata": {
    "id": "uSc-8IYu7K6-"
   },
   "outputs": [],
   "source": [
    "# Realizamos un scaler a x\n",
    "\n",
    "scaler = preprocessing.StandardScaler().fit(X_train)\n",
    "X_train_scal = scaler.transform(X_train)\n",
    "X_test_scal = scaler.transform(X_test)"
   ]
  },
  {
   "cell_type": "code",
   "execution_count": 10,
   "metadata": {
    "id": "u79cYTAFypvQ"
   },
   "outputs": [],
   "source": [
    "# Unificamos los dummies_train y dummies_test a X_train y X_test respectivamente\n",
    "\n",
    "dummies_train=dummies_train.to_numpy()\n",
    "dummies_test=dummies_test.to_numpy()\n",
    "\n",
    "X_train_scal = np.concatenate((X_train_scal, dummies_train), axis=1)\n",
    "X_test_scal = np.concatenate((X_test_scal, dummies_test), axis=1)\n",
    "\n",
    "# Finalmente, nos quedamos con el train y test, escalados y variables binarias\n",
    "# donde corresponda"
   ]
  },
  {
   "cell_type": "code",
   "execution_count": 11,
   "metadata": {
    "id": "MM_46w-RGumy"
   },
   "outputs": [],
   "source": [
    "# Un último cambio que haremos, es en vez de que sean 1 y 2 los resultados de\n",
    "# la feature \"subscription\", pasarán a ser 0 y 1, por una cuestión de orden.\n",
    "# Simplemente restaremos 1 a cada valor para que queden: 0 los no subscriptos\n",
    "# y 1 los efectivamente subscriptos\n",
    "\n",
    "# Lo volvemos a separar en train y test\n",
    "\n",
    "Y['subscription']=Y.subscription-1\n",
    "Y_train, Y_test = train_test_split(Y, test_size=0.20, random_state=42)"
   ]
  },
  {
   "cell_type": "markdown",
   "metadata": {
    "id": "bvNaGwLvIWW1"
   },
   "source": [
    "# 3. Modelo"
   ]
  },
  {
   "cell_type": "code",
   "execution_count": 12,
   "metadata": {
    "colab": {
     "base_uri": "https://localhost:8080/",
     "height": 0
    },
    "id": "GLLbjTCrLITt",
    "outputId": "2ce29af8-6f64-4e85-9423-b5d98f103228"
   },
   "outputs": [
    {
     "name": "stdout",
     "output_type": "stream",
     "text": [
      "Fitting 5 folds for each of 32 candidates, totalling 160 fits\n",
      "[CV 1/5] END ......C=0.1, gamma=0.1, kernel=rbf;, score=0.884 total time=   5.6s\n",
      "[CV 2/5] END ......C=0.1, gamma=0.1, kernel=rbf;, score=0.883 total time=   5.6s\n",
      "[CV 3/5] END ......C=0.1, gamma=0.1, kernel=rbf;, score=0.889 total time=   5.5s\n",
      "[CV 4/5] END ......C=0.1, gamma=0.1, kernel=rbf;, score=0.884 total time=   5.6s\n",
      "[CV 5/5] END ......C=0.1, gamma=0.1, kernel=rbf;, score=0.884 total time=   5.7s\n",
      "[CV 1/5] END ...C=0.1, gamma=0.1, kernel=linear;, score=0.885 total time=   2.9s\n",
      "[CV 2/5] END ...C=0.1, gamma=0.1, kernel=linear;, score=0.887 total time=   2.9s\n",
      "[CV 3/5] END ...C=0.1, gamma=0.1, kernel=linear;, score=0.895 total time=   2.9s\n",
      "[CV 4/5] END ...C=0.1, gamma=0.1, kernel=linear;, score=0.897 total time=   2.9s\n",
      "[CV 5/5] END ...C=0.1, gamma=0.1, kernel=linear;, score=0.896 total time=   2.9s\n",
      "[CV 1/5] END .....C=0.1, gamma=0.01, kernel=rbf;, score=0.878 total time=   5.3s\n",
      "[CV 2/5] END .....C=0.1, gamma=0.01, kernel=rbf;, score=0.878 total time=   5.4s\n",
      "[CV 3/5] END .....C=0.1, gamma=0.01, kernel=rbf;, score=0.878 total time=   5.4s\n",
      "[CV 4/5] END .....C=0.1, gamma=0.01, kernel=rbf;, score=0.879 total time=   5.4s\n",
      "[CV 5/5] END .....C=0.1, gamma=0.01, kernel=rbf;, score=0.879 total time=   5.4s\n",
      "[CV 1/5] END ..C=0.1, gamma=0.01, kernel=linear;, score=0.885 total time=   2.8s\n",
      "[CV 2/5] END ..C=0.1, gamma=0.01, kernel=linear;, score=0.887 total time=   2.9s\n",
      "[CV 3/5] END ..C=0.1, gamma=0.01, kernel=linear;, score=0.895 total time=   2.8s\n",
      "[CV 4/5] END ..C=0.1, gamma=0.01, kernel=linear;, score=0.897 total time=   2.9s\n",
      "[CV 5/5] END ..C=0.1, gamma=0.01, kernel=linear;, score=0.896 total time=   2.9s\n",
      "[CV 1/5] END ....C=0.1, gamma=0.001, kernel=rbf;, score=0.878 total time=   5.5s\n",
      "[CV 2/5] END ....C=0.1, gamma=0.001, kernel=rbf;, score=0.878 total time=   5.2s\n",
      "[CV 3/5] END ....C=0.1, gamma=0.001, kernel=rbf;, score=0.878 total time=   5.2s\n",
      "[CV 4/5] END ....C=0.1, gamma=0.001, kernel=rbf;, score=0.879 total time=   5.2s\n",
      "[CV 5/5] END ....C=0.1, gamma=0.001, kernel=rbf;, score=0.879 total time=   5.2s\n",
      "[CV 1/5] END .C=0.1, gamma=0.001, kernel=linear;, score=0.885 total time=   2.8s\n",
      "[CV 2/5] END .C=0.1, gamma=0.001, kernel=linear;, score=0.887 total time=   2.9s\n",
      "[CV 3/5] END .C=0.1, gamma=0.001, kernel=linear;, score=0.895 total time=   2.8s\n",
      "[CV 4/5] END .C=0.1, gamma=0.001, kernel=linear;, score=0.897 total time=   2.9s\n",
      "[CV 5/5] END .C=0.1, gamma=0.001, kernel=linear;, score=0.896 total time=   2.9s\n",
      "[CV 1/5] END ...C=0.1, gamma=0.0001, kernel=rbf;, score=0.878 total time=   5.0s\n",
      "[CV 2/5] END ...C=0.1, gamma=0.0001, kernel=rbf;, score=0.878 total time=   5.0s\n",
      "[CV 3/5] END ...C=0.1, gamma=0.0001, kernel=rbf;, score=0.878 total time=   4.9s\n",
      "[CV 4/5] END ...C=0.1, gamma=0.0001, kernel=rbf;, score=0.879 total time=   5.1s\n",
      "[CV 5/5] END ...C=0.1, gamma=0.0001, kernel=rbf;, score=0.879 total time=   5.0s\n",
      "[CV 1/5] END C=0.1, gamma=0.0001, kernel=linear;, score=0.885 total time=   2.8s\n",
      "[CV 2/5] END C=0.1, gamma=0.0001, kernel=linear;, score=0.887 total time=   2.9s\n",
      "[CV 3/5] END C=0.1, gamma=0.0001, kernel=linear;, score=0.895 total time=   2.8s\n",
      "[CV 4/5] END C=0.1, gamma=0.0001, kernel=linear;, score=0.897 total time=   2.9s\n",
      "[CV 5/5] END C=0.1, gamma=0.0001, kernel=linear;, score=0.896 total time=   2.9s\n",
      "[CV 1/5] END ........C=1, gamma=0.1, kernel=rbf;, score=0.891 total time=   5.6s\n",
      "[CV 2/5] END ........C=1, gamma=0.1, kernel=rbf;, score=0.897 total time=   5.5s\n",
      "[CV 3/5] END ........C=1, gamma=0.1, kernel=rbf;, score=0.894 total time=   5.6s\n",
      "[CV 4/5] END ........C=1, gamma=0.1, kernel=rbf;, score=0.898 total time=   5.6s\n",
      "[CV 5/5] END ........C=1, gamma=0.1, kernel=rbf;, score=0.902 total time=   5.5s\n",
      "[CV 1/5] END .....C=1, gamma=0.1, kernel=linear;, score=0.885 total time=   3.6s\n",
      "[CV 2/5] END .....C=1, gamma=0.1, kernel=linear;, score=0.887 total time=   3.8s\n",
      "[CV 3/5] END .....C=1, gamma=0.1, kernel=linear;, score=0.894 total time=   3.6s\n",
      "[CV 4/5] END .....C=1, gamma=0.1, kernel=linear;, score=0.899 total time=   3.7s\n",
      "[CV 5/5] END .....C=1, gamma=0.1, kernel=linear;, score=0.896 total time=   3.8s\n",
      "[CV 1/5] END .......C=1, gamma=0.01, kernel=rbf;, score=0.884 total time=   5.2s\n",
      "[CV 2/5] END .......C=1, gamma=0.01, kernel=rbf;, score=0.891 total time=   5.3s\n",
      "[CV 3/5] END .......C=1, gamma=0.01, kernel=rbf;, score=0.892 total time=   5.0s\n",
      "[CV 4/5] END .......C=1, gamma=0.01, kernel=rbf;, score=0.888 total time=   5.0s\n",
      "[CV 5/5] END .......C=1, gamma=0.01, kernel=rbf;, score=0.894 total time=   5.0s\n",
      "[CV 1/5] END ....C=1, gamma=0.01, kernel=linear;, score=0.885 total time=   3.6s\n",
      "[CV 2/5] END ....C=1, gamma=0.01, kernel=linear;, score=0.887 total time=   3.8s\n",
      "[CV 3/5] END ....C=1, gamma=0.01, kernel=linear;, score=0.894 total time=   3.6s\n",
      "[CV 4/5] END ....C=1, gamma=0.01, kernel=linear;, score=0.899 total time=   3.8s\n",
      "[CV 5/5] END ....C=1, gamma=0.01, kernel=linear;, score=0.896 total time=   3.7s\n",
      "[CV 1/5] END ......C=1, gamma=0.001, kernel=rbf;, score=0.878 total time=   5.1s\n",
      "[CV 2/5] END ......C=1, gamma=0.001, kernel=rbf;, score=0.878 total time=   5.3s\n",
      "[CV 3/5] END ......C=1, gamma=0.001, kernel=rbf;, score=0.878 total time=   5.1s\n",
      "[CV 4/5] END ......C=1, gamma=0.001, kernel=rbf;, score=0.879 total time=   5.2s\n",
      "[CV 5/5] END ......C=1, gamma=0.001, kernel=rbf;, score=0.879 total time=   5.2s\n",
      "[CV 1/5] END ...C=1, gamma=0.001, kernel=linear;, score=0.885 total time=   3.6s\n",
      "[CV 2/5] END ...C=1, gamma=0.001, kernel=linear;, score=0.887 total time=   3.8s\n",
      "[CV 3/5] END ...C=1, gamma=0.001, kernel=linear;, score=0.894 total time=   3.6s\n",
      "[CV 4/5] END ...C=1, gamma=0.001, kernel=linear;, score=0.899 total time=   3.8s\n",
      "[CV 5/5] END ...C=1, gamma=0.001, kernel=linear;, score=0.896 total time=   3.8s\n",
      "[CV 1/5] END .....C=1, gamma=0.0001, kernel=rbf;, score=0.878 total time=   5.2s\n",
      "[CV 2/5] END .....C=1, gamma=0.0001, kernel=rbf;, score=0.878 total time=   5.3s\n",
      "[CV 3/5] END .....C=1, gamma=0.0001, kernel=rbf;, score=0.878 total time=   5.2s\n",
      "[CV 4/5] END .....C=1, gamma=0.0001, kernel=rbf;, score=0.879 total time=   5.2s\n",
      "[CV 5/5] END .....C=1, gamma=0.0001, kernel=rbf;, score=0.879 total time=   5.2s\n",
      "[CV 1/5] END ..C=1, gamma=0.0001, kernel=linear;, score=0.885 total time=   3.6s\n",
      "[CV 2/5] END ..C=1, gamma=0.0001, kernel=linear;, score=0.887 total time=   3.8s\n",
      "[CV 3/5] END ..C=1, gamma=0.0001, kernel=linear;, score=0.894 total time=   3.6s\n",
      "[CV 4/5] END ..C=1, gamma=0.0001, kernel=linear;, score=0.899 total time=   3.7s\n",
      "[CV 5/5] END ..C=1, gamma=0.0001, kernel=linear;, score=0.896 total time=   3.8s\n",
      "[CV 1/5] END .......C=10, gamma=0.1, kernel=rbf;, score=0.882 total time=   6.4s\n",
      "[CV 2/5] END .......C=10, gamma=0.1, kernel=rbf;, score=0.900 total time=   6.5s\n",
      "[CV 3/5] END .......C=10, gamma=0.1, kernel=rbf;, score=0.884 total time=   6.0s\n",
      "[CV 4/5] END .......C=10, gamma=0.1, kernel=rbf;, score=0.898 total time=   6.3s\n",
      "[CV 5/5] END .......C=10, gamma=0.1, kernel=rbf;, score=0.893 total time=   6.1s\n",
      "[CV 1/5] END ....C=10, gamma=0.1, kernel=linear;, score=0.885 total time=   9.6s\n",
      "[CV 2/5] END ....C=10, gamma=0.1, kernel=linear;, score=0.887 total time=  10.2s\n",
      "[CV 3/5] END ....C=10, gamma=0.1, kernel=linear;, score=0.894 total time=   9.8s\n",
      "[CV 4/5] END ....C=10, gamma=0.1, kernel=linear;, score=0.899 total time=  10.0s\n",
      "[CV 5/5] END ....C=10, gamma=0.1, kernel=linear;, score=0.896 total time=   9.6s\n",
      "[CV 1/5] END ......C=10, gamma=0.01, kernel=rbf;, score=0.886 total time=   5.0s\n",
      "[CV 2/5] END ......C=10, gamma=0.01, kernel=rbf;, score=0.891 total time=   5.3s\n",
      "[CV 3/5] END ......C=10, gamma=0.01, kernel=rbf;, score=0.897 total time=   5.1s\n",
      "[CV 4/5] END ......C=10, gamma=0.01, kernel=rbf;, score=0.896 total time=   5.3s\n",
      "[CV 5/5] END ......C=10, gamma=0.01, kernel=rbf;, score=0.899 total time=   5.0s\n",
      "[CV 1/5] END ...C=10, gamma=0.01, kernel=linear;, score=0.885 total time=   9.6s\n",
      "[CV 2/5] END ...C=10, gamma=0.01, kernel=linear;, score=0.887 total time=   9.9s\n",
      "[CV 3/5] END ...C=10, gamma=0.01, kernel=linear;, score=0.894 total time=   9.7s\n",
      "[CV 4/5] END ...C=10, gamma=0.01, kernel=linear;, score=0.899 total time=  10.2s\n",
      "[CV 5/5] END ...C=10, gamma=0.01, kernel=linear;, score=0.896 total time=   9.8s\n",
      "[CV 1/5] END .....C=10, gamma=0.001, kernel=rbf;, score=0.886 total time=   5.1s\n"
     ]
    },
    {
     "name": "stdout",
     "output_type": "stream",
     "text": [
      "[CV 2/5] END .....C=10, gamma=0.001, kernel=rbf;, score=0.889 total time=   5.3s\n",
      "[CV 3/5] END .....C=10, gamma=0.001, kernel=rbf;, score=0.892 total time=   5.0s\n",
      "[CV 4/5] END .....C=10, gamma=0.001, kernel=rbf;, score=0.891 total time=   5.0s\n",
      "[CV 5/5] END .....C=10, gamma=0.001, kernel=rbf;, score=0.896 total time=   5.0s\n",
      "[CV 1/5] END ..C=10, gamma=0.001, kernel=linear;, score=0.885 total time=   9.7s\n",
      "[CV 2/5] END ..C=10, gamma=0.001, kernel=linear;, score=0.887 total time=  10.3s\n",
      "[CV 3/5] END ..C=10, gamma=0.001, kernel=linear;, score=0.894 total time=   9.6s\n",
      "[CV 4/5] END ..C=10, gamma=0.001, kernel=linear;, score=0.899 total time=   9.9s\n",
      "[CV 5/5] END ..C=10, gamma=0.001, kernel=linear;, score=0.896 total time=   9.9s\n",
      "[CV 1/5] END ....C=10, gamma=0.0001, kernel=rbf;, score=0.878 total time=   5.2s\n",
      "[CV 2/5] END ....C=10, gamma=0.0001, kernel=rbf;, score=0.878 total time=   5.2s\n",
      "[CV 3/5] END ....C=10, gamma=0.0001, kernel=rbf;, score=0.878 total time=   5.1s\n",
      "[CV 4/5] END ....C=10, gamma=0.0001, kernel=rbf;, score=0.879 total time=   5.2s\n",
      "[CV 5/5] END ....C=10, gamma=0.0001, kernel=rbf;, score=0.879 total time=   5.2s\n",
      "[CV 1/5] END .C=10, gamma=0.0001, kernel=linear;, score=0.885 total time=   9.6s\n",
      "[CV 2/5] END .C=10, gamma=0.0001, kernel=linear;, score=0.887 total time=  10.2s\n",
      "[CV 3/5] END .C=10, gamma=0.0001, kernel=linear;, score=0.894 total time=   9.5s\n",
      "[CV 4/5] END .C=10, gamma=0.0001, kernel=linear;, score=0.899 total time=   9.9s\n",
      "[CV 5/5] END .C=10, gamma=0.0001, kernel=linear;, score=0.896 total time=   9.9s\n",
      "[CV 1/5] END ......C=100, gamma=0.1, kernel=rbf;, score=0.874 total time=   6.7s\n",
      "[CV 2/5] END ......C=100, gamma=0.1, kernel=rbf;, score=0.881 total time=   6.9s\n",
      "[CV 3/5] END ......C=100, gamma=0.1, kernel=rbf;, score=0.877 total time=   6.4s\n",
      "[CV 4/5] END ......C=100, gamma=0.1, kernel=rbf;, score=0.885 total time=   7.1s\n",
      "[CV 5/5] END ......C=100, gamma=0.1, kernel=rbf;, score=0.886 total time=   6.9s\n",
      "[CV 1/5] END ...C=100, gamma=0.1, kernel=linear;, score=0.885 total time= 1.2min\n",
      "[CV 2/5] END ...C=100, gamma=0.1, kernel=linear;, score=0.887 total time= 4.2min\n",
      "[CV 3/5] END ...C=100, gamma=0.1, kernel=linear;, score=0.894 total time= 1.2min\n",
      "[CV 4/5] END ...C=100, gamma=0.1, kernel=linear;, score=0.899 total time= 3.5min\n",
      "[CV 5/5] END ...C=100, gamma=0.1, kernel=linear;, score=0.895 total time= 2.8min\n",
      "[CV 1/5] END .....C=100, gamma=0.01, kernel=rbf;, score=0.895 total time=   6.2s\n",
      "[CV 2/5] END .....C=100, gamma=0.01, kernel=rbf;, score=0.898 total time=   6.3s\n",
      "[CV 3/5] END .....C=100, gamma=0.01, kernel=rbf;, score=0.892 total time=   6.0s\n",
      "[CV 4/5] END .....C=100, gamma=0.01, kernel=rbf;, score=0.896 total time=   6.2s\n",
      "[CV 5/5] END .....C=100, gamma=0.01, kernel=rbf;, score=0.900 total time=   6.3s\n",
      "[CV 1/5] END ..C=100, gamma=0.01, kernel=linear;, score=0.885 total time= 1.2min\n",
      "[CV 2/5] END ..C=100, gamma=0.01, kernel=linear;, score=0.887 total time= 4.0min\n",
      "[CV 3/5] END ..C=100, gamma=0.01, kernel=linear;, score=0.894 total time= 1.2min\n",
      "[CV 4/5] END ..C=100, gamma=0.01, kernel=linear;, score=0.899 total time= 3.5min\n",
      "[CV 5/5] END ..C=100, gamma=0.01, kernel=linear;, score=0.895 total time= 1.5min\n",
      "[CV 1/5] END ....C=100, gamma=0.001, kernel=rbf;, score=0.885 total time=   5.2s\n",
      "[CV 2/5] END ....C=100, gamma=0.001, kernel=rbf;, score=0.887 total time=   5.3s\n",
      "[CV 3/5] END ....C=100, gamma=0.001, kernel=rbf;, score=0.896 total time=   5.2s\n",
      "[CV 4/5] END ....C=100, gamma=0.001, kernel=rbf;, score=0.897 total time=   5.3s\n",
      "[CV 5/5] END ....C=100, gamma=0.001, kernel=rbf;, score=0.895 total time=   5.3s\n",
      "[CV 1/5] END .C=100, gamma=0.001, kernel=linear;, score=0.885 total time= 1.2min\n",
      "[CV 2/5] END .C=100, gamma=0.001, kernel=linear;, score=0.887 total time= 4.2min\n",
      "[CV 3/5] END .C=100, gamma=0.001, kernel=linear;, score=0.894 total time= 1.2min\n",
      "[CV 4/5] END .C=100, gamma=0.001, kernel=linear;, score=0.899 total time= 3.5min\n",
      "[CV 5/5] END .C=100, gamma=0.001, kernel=linear;, score=0.895 total time= 1.6min\n",
      "[CV 1/5] END ...C=100, gamma=0.0001, kernel=rbf;, score=0.886 total time=   5.1s\n",
      "[CV 2/5] END ...C=100, gamma=0.0001, kernel=rbf;, score=0.890 total time=   5.0s\n",
      "[CV 3/5] END ...C=100, gamma=0.0001, kernel=rbf;, score=0.893 total time=   5.1s\n",
      "[CV 4/5] END ...C=100, gamma=0.0001, kernel=rbf;, score=0.890 total time=   5.2s\n",
      "[CV 5/5] END ...C=100, gamma=0.0001, kernel=rbf;, score=0.896 total time=   5.2s\n",
      "[CV 1/5] END C=100, gamma=0.0001, kernel=linear;, score=0.885 total time= 1.2min\n",
      "[CV 2/5] END C=100, gamma=0.0001, kernel=linear;, score=0.887 total time= 4.0min\n",
      "[CV 3/5] END C=100, gamma=0.0001, kernel=linear;, score=0.894 total time= 1.2min\n",
      "[CV 4/5] END C=100, gamma=0.0001, kernel=linear;, score=0.899 total time= 3.5min\n",
      "[CV 5/5] END C=100, gamma=0.0001, kernel=linear;, score=0.895 total time= 1.5min\n"
     ]
    },
    {
     "data": {
      "text/plain": [
       "GridSearchCV(estimator=SVC(probability=True),\n",
       "             param_grid={'C': [0.1, 1, 10, 100],\n",
       "                         'gamma': [0.1, 0.01, 0.001, 0.0001],\n",
       "                         'kernel': ['rbf', 'linear']},\n",
       "             verbose=3)"
      ]
     },
     "execution_count": 12,
     "metadata": {},
     "output_type": "execute_result"
    }
   ],
   "source": [
    "# Definimos los parámetros\n",
    "param_grid = {'C': [0.1, 1, 10, 100], \n",
    "              'gamma': [0.1, 0.01, 0.001, 0.0001],\n",
    "              'kernel': ['rbf', 'linear']} \n",
    "  \n",
    "svc = svm.SVC(probability=True)\n",
    "\n",
    "grid = GridSearchCV(svc, param_grid, refit = True, verbose = 3)\n",
    "  \n",
    "# Fitteamos a cada combinación para definir la grilla\n",
    "grid.fit(X_train_scal, Y_train.values.ravel())"
   ]
  },
  {
   "cell_type": "code",
   "execution_count": 13,
   "metadata": {
    "id": "EdYcxEOILI5y"
   },
   "outputs": [],
   "source": [
    "Y_pred = grid.predict(X_test_scal)"
   ]
  },
  {
   "cell_type": "code",
   "execution_count": 14,
   "metadata": {
    "id": "PDWXPueC6lg8"
   },
   "outputs": [
    {
     "name": "stdout",
     "output_type": "stream",
     "text": [
      "El accuracy es 0.9069334574220568\n"
     ]
    }
   ],
   "source": [
    "# Computo el accuracy (comparar Y_test vs Y_pred)\n",
    "test_acc = accuracy_score(Y_test, Y_pred)\n",
    "print(\"El accuracy es \" + str(test_acc))"
   ]
  },
  {
   "cell_type": "code",
   "execution_count": 15,
   "metadata": {
    "id": "qBVmfSbz6le2"
   },
   "outputs": [
    {
     "name": "stdout",
     "output_type": "stream",
     "text": [
      "El AUC es = 0.9043987820105588\n"
     ]
    }
   ],
   "source": [
    "# AUC\n",
    "Y_proba = grid.predict_proba(X_test_scal)\n",
    "fpr1, tpr1, thresholds = roc_curve(Y_test.astype('int'), Y_proba[:,1], drop_intermediate = False)\n",
    "auc_value = auc(fpr1, tpr1)\n",
    "print(\"El AUC es = \" + str(auc_value))"
   ]
  },
  {
   "cell_type": "code",
   "execution_count": 16,
   "metadata": {
    "id": "aaLaNHPj6lc2",
    "scrolled": true
   },
   "outputs": [
    {
     "data": {
      "image/png": "[encoded data removed]",
      "text/plain": [
       "<Figure size 432x288 with 1 Axes>"
      ]
     },
     "metadata": {
      "needs_background": "light"
     },
     "output_type": "display_data"
    }
   ],
   "source": [
    "plt.plot(fpr1, tpr1, lw=2, alpha=0.7 , label = 'ROC curve', color = 'b')\n",
    "plt.plot([0, 1], [0, 1], linestyle='--', lw=1, color='r', alpha=.8)\n",
    "plt.xlabel('False Positive Rate')\n",
    "plt.ylabel('True Positive Rate')\n",
    "plt.grid(False)\n",
    "plt.legend(loc=\"lower right\")\n",
    "plt.title('ROC Curve')\n",
    "plt.show()"
   ]
  },
  {
   "cell_type": "code",
   "execution_count": 17,
   "metadata": {
    "id": "P-H-PCbV6las"
   },
   "outputs": [
    {
     "data": {
      "image/png": "[encoded data removed]",
      "text/plain": [
       "<Figure size 432x288 with 2 Axes>"
      ]
     },
     "metadata": {
      "needs_background": "light"
     },
     "output_type": "display_data"
    }
   ],
   "source": [
    "# Confusion Matrix\n",
    "cm = confusion_matrix(Y_test, Y_pred)\n",
    "df_cm = pd.DataFrame(cm, index = ['No subscripto', 'Subscripto'], columns = ['No subscripto', 'Subscripto'])\n",
    "plt.figure(figsize = (6,4))\n",
    "sns.heatmap(df_cm, annot=True,fmt='g')\n",
    "plt.title('Confusion matrix')\n",
    "plt.show()"
   ]
  }
 ],
 "metadata": {
  "accelerator": "GPU",
  "colab": {
   "collapsed_sections": [
    "KQzkH5w5vce2",
    "kCyQjTOCvm-W"
   ],
   "provenance": []
  },
  "gpuClass": "standard",
  "kernelspec": {
   "display_name": "Python 3 (ipykernel)",
   "language": "python",
   "name": "python3"
  },
  "language_info": {
   "codemirror_mode": {
    "name": "ipython",
    "version": 3
   },
   "file_extension": ".py",
   "mimetype": "text/x-python",
   "name": "python",
   "nbconvert_exporter": "python",
   "pygments_lexer": "ipython3",
   "version": "3.9.12"
  }
 },
 "nbformat": 4,
 "nbformat_minor": 1
}
